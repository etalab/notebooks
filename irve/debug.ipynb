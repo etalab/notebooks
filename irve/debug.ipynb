{
 "cells": [
  {
   "cell_type": "markdown",
   "metadata": {},
   "source": [
    "## analyze mapping\n",
    "\n",
    "Use parse_csv and downloaded data from main notebook."
   ]
  },
  {
   "cell_type": "code",
   "execution_count": null,
   "metadata": {},
   "outputs": [],
   "source": [
    "# parse CSV files: analyze difference between standard schema and real data\n",
    "# infer a mapping of column names variation to match a maximum of data later\n",
    "\n",
    "# /!\\ this is only an analysis step that helped build `columns_mapping` above\n",
    "# you do not need to run this when doing a consolidation\n",
    "\n",
    "p = Path(current_path)\n",
    "for child in [x for x in p.iterdir() if x.is_dir()]:\n",
    "    csvs = list(child.glob('*.csv'))\n",
    "    for csv in csvs:\n",
    "        table = parse_csv(csv)\n",
    "        if table:\n",
    "            cols = [x.lower() for x in table.column_names]\n",
    "            missing_pivot = []\n",
    "            for pivot in ['id_station', 'id_pdc', 'date_maj']:\n",
    "                if pivot not in cols:\n",
    "                    missing_pivot.append(pivot)\n",
    "            if missing_pivot:\n",
    "                print('Skipping %s for missing pivot %s, cols were %s' % (csv, missing_pivot, cols))\n",
    "                break\n",
    "            diff = list(set(cols) - set(columns_low))\n",
    "            if diff:\n",
    "                print('DIFF for %s: %s' % (csv, diff))\n",
    "print('✅ ✅ ✅')"
   ]
  },
  {
   "cell_type": "markdown",
   "metadata": {},
   "source": [
    "## debug / test"
   ]
  },
  {
   "cell_type": "code",
   "execution_count": null,
   "metadata": {},
   "outputs": [],
   "source": [
    "# encoding\n",
    "\n",
    "source = 'data/union-des-secteurs-denergie-du-departement-de-laisne/IRVE_USEDADIRVE02_20180806.csv'\n",
    "\n",
    "table = agate.Table.from_csv(source, sniff_limit=4096)\n",
    "\n",
    "for row in table.rows[:3]:\n",
    "    print(row)\n",
    "    \n",
    "# conclusion: this file is UTF-8 but data inside are encoded in something else... Nothing we can do automatically"
   ]
  },
  {
   "cell_type": "code",
   "execution_count": null,
   "metadata": {},
   "outputs": [],
   "source": [
    "# lat/long parsing\n",
    "\n",
    "table = agate.Table.from_csv('data/alexandre-court-2/IRVE_Reveo_20180820.csv', encoding='latin-1', sniff_limit=4096)\n",
    "for row in table.rows:\n",
    "    if 'DEGAGNAC' in row['n_station']:\n",
    "        print(row['Xlongitude'])"
   ]
  }
 ],
 "metadata": {
  "kernelspec": {
   "display_name": "Python 3",
   "language": "python",
   "name": "python3"
  },
  "language_info": {
   "codemirror_mode": {
    "name": "ipython",
    "version": 3
   },
   "file_extension": ".py",
   "mimetype": "text/x-python",
   "name": "python",
   "nbconvert_exporter": "python",
   "pygments_lexer": "ipython3",
   "version": "3.6.5"
  }
 },
 "nbformat": 4,
 "nbformat_minor": 2
}
