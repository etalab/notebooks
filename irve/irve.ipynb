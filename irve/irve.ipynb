{
 "cells": [
  {
   "cell_type": "markdown",
   "metadata": {},
   "source": [
    "# Consolidation IRVE\n",
    "\n",
    "- récupération et consolidation de tous les CSV `irve` sur data.gouv.fr\n",
    "- publication du fichier consolidé sur la plateforme"
   ]
  },
  {
   "cell_type": "code",
   "execution_count": null,
   "metadata": {},
   "outputs": [],
   "source": [
    "import os\n",
    "import requests\n",
    "import agate\n",
    "\n",
    "from datetime import datetime\n",
    "from pathlib import Path\n",
    "import cchardet as chardet\n",
    "\n",
    "current_path = Path(os.getenv('WORKING_DIR')) if os.getenv('WORKING_DIR') else Path().absolute()\n",
    "current_path"
   ]
  },
  {
   "cell_type": "markdown",
   "metadata": {},
   "source": [
    "## chargement de la configuration générale"
   ]
  },
  {
   "cell_type": "code",
   "execution_count": null,
   "metadata": {},
   "outputs": [],
   "source": [
    "domain = os.getenv('NB_IRVE_DOMAIN', 'next.data.gouv.fr')\n",
    "domain"
   ]
  },
  {
   "cell_type": "markdown",
   "metadata": {},
   "source": [
    "## récupération des fichiers sources\n",
    "\n",
    "- liste de tous les datasets taggués \"irve\"\n",
    "- téléchargement de toutes les ressources CSV associées (dans un dossier horodatée)"
   ]
  },
  {
   "cell_type": "code",
   "execution_count": null,
   "metadata": {},
   "outputs": [],
   "source": [
    "# get the list of datasets tagged irve on data.gouv.fr\n",
    "\n",
    "url = 'https://%s/api/1/datasets/?tag=irve&page_size=1000' % domain\n",
    "r = requests.get(url)\n",
    "datasets = r.json()['data']\n",
    "\n",
    "len(datasets)"
   ]
  },
  {
   "cell_type": "code",
   "execution_count": null,
   "metadata": {},
   "outputs": [],
   "source": [
    "# Download all tabular files in data/ directory, as best as we can\n",
    "\n",
    "# make a new directory each DAY the download phase is done\n",
    "data_path = current_path / 'data' / datetime.now().strftime('%Y%m%d')\n",
    "data_path.mkdir(parents=True, exist_ok=True)\n",
    "\n",
    "total_resources = 0\n",
    "dl_resources = 0\n",
    "\n",
    "our_dataset_id = os.environ['NB_IRVE_DATASET_ID']\n",
    "\n",
    "downloaded = []\n",
    "for d in datasets:\n",
    "    if not d['organization'] and not d['owner']:\n",
    "        print('❌', 'orphan dataset', d['slug'])\n",
    "        continue\n",
    "    # ignore our consolidated dataset\n",
    "    if d['id'] == our_dataset_id:\n",
    "        print('⚠️ ignored our own dataset')\n",
    "        continue\n",
    "    orga = d['organization']['slug'] if d['organization'] else d['owner']['slug']\n",
    "    slug = d['slug']\n",
    "    for r in d['resources']:\n",
    "        total_resources += 1\n",
    "        rurl = r['url']\n",
    "        rid = r['id']\n",
    "        # ODS style NB: won't work more than once for CKAN\n",
    "        if 'format=csv' in rurl:\n",
    "            filename = rurl.split('/')[-3] + '.csv'\n",
    "        else:\n",
    "            filename = rurl.split('/')[-1]\n",
    "        ext = filename.split('.')[-1]\n",
    "        if ext != 'csv':\n",
    "            print('⚠️ ignored file %s' % rurl)\n",
    "            continue\n",
    "        r = requests.get(rurl, allow_redirects=True)\n",
    "        p = Path(data_path) / slug\n",
    "        p.mkdir(exist_ok=True)\n",
    "        written_filename = '%s.%s' % (rid, ext) \n",
    "        with open('%s/%s' % (p, written_filename), 'wb') as f:\n",
    "            dl_resources += 1\n",
    "            f.write(r.content)\n",
    "            downloaded.append(filename)\n",
    "            print('✅ downloaded file [%s] %s' % (filename, rurl))\n",
    "print('✅✅✅ Done', total_resources, dl_resources)"
   ]
  },
  {
   "cell_type": "markdown",
   "metadata": {},
   "source": [
    "## création d'une liste de bornes \"en vrac\"\n",
    "\n",
    "- récupération d'un maximum de lignes depuis les fichiers CSV téléchargés\n",
    "- utilisation d'un mapping de colonnes pour exploiter des fichiers mal structurés ou mal encodés"
   ]
  },
  {
   "cell_type": "code",
   "execution_count": null,
   "metadata": {},
   "outputs": [],
   "source": [
    "import warnings\n",
    "from agate.warns import UnnamedColumnWarning\n",
    "\n",
    "def parse_csv(file_path):\n",
    "    warnings.filterwarnings('ignore', category=UnnamedColumnWarning)\n",
    "    # deactivate type testing, this puts too much constraint on parsing\n",
    "    # especially for lat/lon columns with commas\n",
    "    tester = agate.TypeTester(types=(agate.Text, ), limit=0)\n",
    "    with file_path.open('rb') as f:\n",
    "        encoding = chardet.detect(f.read()).get('encoding')\n",
    "    try:\n",
    "        table = agate.Table.from_csv(file_path, encoding=encoding, sniff_limit=None, column_types=tester)\n",
    "    except Exception as e:\n",
    "        print('❌ CSV parse error for %s (%s)' % (file_path, e))\n",
    "    else:\n",
    "        return table\n",
    "    finally:\n",
    "        warnings.resetwarnings()"
   ]
  },
  {
   "cell_type": "code",
   "execution_count": null,
   "metadata": {},
   "outputs": [],
   "source": [
    "columns_mapping = [\n",
    "    ('n_amenageur', 'nom_amenageur', 'n_amenageu'), \n",
    "    ('n_operateur', 'n_operateu'), \n",
    "    ('n_enseigne', ), \n",
    "    ('id_station', ), \n",
    "    ('n_station', 'nom_station'), \n",
    "    ('ad_station', 'adresse_station'), \n",
    "    ('code_insee', ), \n",
    "    ('Xlongitude', 'longitude_wsg84'), \n",
    "    ('Ylatitude', 'latitude_wsg84'), \n",
    "    ('nbre_pdc', 'nbre_borne'), \n",
    "    ('id_pdc', 'n° borne'), \n",
    "    ('puiss_max', ), \n",
    "    ('type_prise', 'type_connecteur', 'typ_charge'), \n",
    "    ('acces_recharge', 'modalité d\\'accès à la borne', 'acces_rech'), \n",
    "    ('accessibilité', 'accessibilitã©', 'accessibilite', 'accessibilit�', 'accessibilit‚'), \n",
    "    ('observations', ), \n",
    "    ('date_maj', ),\n",
    "]\n",
    "columns = ['n_amenageur', 'n_operateur', 'n_enseigne', 'id_station', 'n_station', 'ad_station', 'code_insee', 'Xlongitude', 'Ylatitude', 'nbre_pdc', 'id_pdc', 'puiss_max', 'type_prise', 'acces_recharge', 'accessibilité', 'observations', 'date_maj']\n",
    "columns_low = [x.lower() for x in columns]"
   ]
  },
  {
   "cell_type": "code",
   "execution_count": null,
   "metadata": {},
   "outputs": [],
   "source": [
    "# use columns_mapping to build a database of unique stations based on (id_station, id_pdc, max(date_maj))\n",
    "bornes = []\n",
    "\n",
    "def find_by_pivot(row, lines):\n",
    "    pass\n",
    "\n",
    "def ifind_in_row_by_col(col, row):\n",
    "    for key in row.keys():\n",
    "        if col.lower() == key.lower():\n",
    "            return row[key]\n",
    "\n",
    "for child in [x for x in data_path.iterdir() if x.is_dir()]:\n",
    "    csvs = list(child.glob('*.csv'))\n",
    "    for csv in csvs:\n",
    "        # print('ℹ️ doing %s' % csv)\n",
    "        table = parse_csv(csv)\n",
    "        if table:\n",
    "            table_cols = [x.lower().strip() for x in table.column_names]\n",
    "            missing_pivot = []\n",
    "            for pivot in ['id_station', 'id_pdc', 'date_maj']:\n",
    "                if pivot not in table_cols:\n",
    "                    missing_pivot.append(pivot)\n",
    "            if missing_pivot:\n",
    "                continue\n",
    "            for row in table.rows:\n",
    "                borne = {}\n",
    "                for col in columns_mapping:\n",
    "                    for c in col:\n",
    "                        if c.lower() in table_cols:\n",
    "                            # use the standard name for column\n",
    "                            borne[col[0]] = ifind_in_row_by_col(c, row)\n",
    "                            break\n",
    "                upatt = 'https://www.data.gouv.fr/fr/datasets/%s/#resource-%s'\n",
    "                borne['source'] = upatt % (csv.parents[0].stem, csv.stem)\n",
    "                bornes.append(borne)\n",
    "                \n",
    "print('✅ ✅ ✅')"
   ]
  },
  {
   "cell_type": "code",
   "execution_count": null,
   "metadata": {},
   "outputs": [],
   "source": [
    "len(bornes)"
   ]
  },
  {
   "cell_type": "markdown",
   "metadata": {},
   "source": [
    "## consolidation\n",
    "\n",
    "- dédoublonnage des données brutes\n",
    "- \"data hacks\" : réparation de quelques erreurs communes"
   ]
  },
  {
   "cell_type": "code",
   "execution_count": null,
   "metadata": {},
   "outputs": [],
   "source": [
    "# deduplicate based on date_maj and id_pdc\n",
    "from dateutil.parser import parse\n",
    "\n",
    "unique_bornes = []\n",
    "\n",
    "def parse_date(date):\n",
    "    date = str(date)\n",
    "    try:\n",
    "        return parse(date)\n",
    "    except ValueError:\n",
    "        return parse('1970-1-1')\n",
    "\n",
    "# filter out id_pdc==None\n",
    "# TODO maybe use (id_station, id_pdc) instead of only id_pdc\n",
    "ids = set([b['id_pdc'] for b in bornes if (b['id_pdc'] and str(b['id_pdc']).strip())])\n",
    "for _id in ids:\n",
    "    bs = [b for b in bornes if b['id_pdc'] == _id]\n",
    "    if len(bs) > 1:\n",
    "        max_date = max([parse_date(b['date_maj']) for b in bs])\n",
    "        unique = [b for b in bs if parse_date(b['date_maj']) == max_date][0]\n",
    "    else:\n",
    "        unique = bs[0]\n",
    "    ## Data hacks\n",
    "    # replace `date_maj` original value with parsed date\n",
    "    unique['date_maj'] = parse_date(unique['date_maj']).strftime('%Y/%m/%d')\n",
    "    # clean `puiss_max`: dot instead of comma, remove unit\n",
    "    unique['puiss_max'] = unique['puiss_max'].replace(',', '.').replace(' ', '').replace('kW', '') if unique['puiss_max'] else ''\n",
    "    # clean `code_insee`: remove spaces, zero pad\n",
    "    unique['code_insee'] = unique['code_insee'].replace(' ', '').zfill(5) if unique['code_insee'] else ''\n",
    "    # replace `Xlongitude` and `Xlatitude` commas with points\n",
    "    unique['Xlongitude'] = unique['Xlongitude'].replace(',', '.') if unique['Xlongitude'] else ''\n",
    "    unique['Ylatitude'] = unique['Ylatitude'].replace(',', '.') if unique['Ylatitude'] else ''\n",
    "    unique_bornes.append(unique)\n",
    "    \n",
    "len(unique_bornes)"
   ]
  },
  {
   "cell_type": "code",
   "execution_count": null,
   "metadata": {},
   "outputs": [],
   "source": [
    "len(bornes), len([b for b in bornes if b['id_pdc']]), len(unique_bornes)"
   ]
  },
  {
   "cell_type": "markdown",
   "metadata": {},
   "source": [
    "## écriture des résultats dans un CSV"
   ]
  },
  {
   "cell_type": "code",
   "execution_count": null,
   "metadata": {},
   "outputs": [],
   "source": [
    "# write the results to CSV\n",
    "import csv\n",
    "\n",
    "# sort by n_amenageur\n",
    "unique_bornes.sort(key=lambda k: k['n_amenageur'])\n",
    "\n",
    "csvfile_name = 'bornes-irve-%s.csv' % datetime.now().strftime('%Y%m%d')\n",
    "csvfile_path = current_path / 'output'\n",
    "csvfile_path.mkdir(exist_ok=True)\n",
    "csvfile_path = csvfile_path / csvfile_name\n",
    "\n",
    "with open(csvfile_path, 'w') as csvfile:\n",
    "    writer = csv.DictWriter(csvfile, fieldnames=columns + ['source'], delimiter=';')\n",
    "    writer.writeheader()\n",
    "    for b in unique_bornes:\n",
    "        writer.writerow(b)"
   ]
  },
  {
   "cell_type": "markdown",
   "metadata": {},
   "source": [
    "## envoi du fichier sur (demo.)data.gouv.fr\n",
    "\n",
    "- utilisation du CSV précédemment généré\n",
    "- création d'une nouvelle ressource avec ce fichier\n",
    "- mise à jour de la ressource \"dernière version consolidée\" avec la nouvelle URL\n",
    "- tri des ressources pour avoir la \"dernière version consolidée\" en haut"
   ]
  },
  {
   "cell_type": "markdown",
   "metadata": {},
   "source": [
    "### chargement de la configuration de l'upload"
   ]
  },
  {
   "cell_type": "code",
   "execution_count": null,
   "metadata": {},
   "outputs": [],
   "source": [
    "apikey = os.environ['NB_IRVE_APIKEY']\n",
    "dataset_id = os.environ['NB_IRVE_DATASET_ID']\n",
    "latest_resource_id = os.environ['NB_IRVE_LATEST_RESOURCE_ID']"
   ]
  },
  {
   "cell_type": "markdown",
   "metadata": {},
   "source": [
    "### upload"
   ]
  },
  {
   "cell_type": "code",
   "execution_count": null,
   "metadata": {},
   "outputs": [],
   "source": [
    "# send the results to the portal\n",
    "import requests\n",
    "import locale\n",
    "\n",
    "# date in French\n",
    "locale.setlocale(locale.LC_ALL, 'fr_FR.UTF-8')\n",
    "\n",
    "url = 'https://%s/api/1/datasets/%s' % (domain, dataset_id)\n",
    "\n",
    "with open(csvfile_path, 'rb') as csvfile:\n",
    "    files = {'file': (csvfile_name, csvfile.read())}\n",
    "\n",
    "# upload file\n",
    "r = requests.post('%s/upload/' % url, files=files, headers={'x-api-key': apikey})\n",
    "assert r.status_code == 201\n",
    "\n",
    "# update resource's metadata\n",
    "resource = r.json()\n",
    "resource['title'] = 'Version consolidée en %s' % datetime.now().strftime('%B %Y')\n",
    "resource['schema'] = 'etalab/schema-irve'\n",
    "resource['description'] = \"Contenu correspondant au format défini par [l’arrêté du 12 janvier 2017](https://www.legifrance.gouv.fr/affichTexte.do?cidTexte=JORFTEXT000033860733&categorieLien=id), avec une colonne supplémentaire indiquant la source de donnée.\"\n",
    "r = requests.put('%s/resources/%s/' % (url, resource['id']), json=resource, headers={'x-api-key': apikey})\n",
    "assert r.status_code == 200\n",
    "print(r.json())\n",
    "\n",
    "# update latest resource URL\n",
    "r = requests.get('%s/resources/%s/' % (url, latest_resource_id))\n",
    "latest_resource = r.json()\n",
    "latest_resource['url'] = resource['url']\n",
    "latest_resource['filesize'] = resource['filesize']\n",
    "r = requests.put('%s/resources/%s/' % (url, latest_resource_id), json=latest_resource, headers={'x-api-key': apikey})\n",
    "assert r.status_code == 200\n",
    "\n",
    "print('✅ ✅ ✅')"
   ]
  },
  {
   "cell_type": "code",
   "execution_count": null,
   "metadata": {},
   "outputs": [],
   "source": [
    "# reorder with latest resource on top\n",
    "# \"reorder\" endpoint won't work from requests, so we're sending the entire dataset w/ reordered resources\n",
    "r = requests.get('%s/' % url)\n",
    "dataset = r.json()\n",
    "resources = dataset['resources']\n",
    "index = next((i for i, item in enumerate(resources) if item['id'] == latest_resource_id), -1)\n",
    "resources.insert(0, resources.pop(index))\n",
    "#dataset['resources'] = resources\n",
    "r = requests.put('%s/' % url, json=dataset, headers={'x-api-key': apikey})\n",
    "print(url)\n",
    "assert r.status_code == 200\n",
    "\n",
    "print('✅ ✅ ✅')"
   ]
  },
  {
   "cell_type": "code",
   "execution_count": null,
   "metadata": {},
   "outputs": [],
   "source": []
  }
 ],
 "metadata": {
  "kernelspec": {
   "display_name": "Python 3",
   "language": "python",
   "name": "python3"
  },
  "language_info": {
   "codemirror_mode": {
    "name": "ipython",
    "version": 3
   },
   "file_extension": ".py",
   "mimetype": "text/x-python",
   "name": "python",
   "nbconvert_exporter": "python",
   "pygments_lexer": "ipython3",
   "version": "3.7.6"
  }
 },
 "nbformat": 4,
 "nbformat_minor": 2
}
