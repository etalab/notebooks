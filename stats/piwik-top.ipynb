{
 "cells": [
  {
   "cell_type": "markdown",
   "metadata": {},
   "source": [
    "# Fetch stats from piwik\n",
    "\n",
    "- uses the public piwik API\n",
    "- fetch top visited datasets on a given period\n",
    "- notifies through Slack\n",
    "- entrypoint: compute(period, date, title='')"
   ]
  },
  {
   "cell_type": "code",
   "execution_count": null,
   "metadata": {},
   "outputs": [],
   "source": [
    "import os\n",
    "import requests"
   ]
  },
  {
   "cell_type": "code",
   "execution_count": null,
   "metadata": {},
   "outputs": [],
   "source": [
    "wh_url = os.environ['NB_SLACK_WEBHOOK_URL_REPORTING']"
   ]
  },
  {
   "cell_type": "code",
   "execution_count": null,
   "metadata": {},
   "outputs": [],
   "source": [
    "base_url = 'https://stats.data.gouv.fr/index.php'"
   ]
  },
  {
   "cell_type": "code",
   "execution_count": null,
   "metadata": {},
   "outputs": [],
   "source": [
    "params = {\n",
    "    'module': 'API',\n",
    "    'idSite': 109,\n",
    "    'date': 'yesterday',\n",
    "    'period': 'day',\n",
    "    'format': 'json',\n",
    "    'method': 'Actions.getPageUrls',\n",
    "    'expanded': 1,\n",
    "    'flat': 1,\n",
    "    'filter_limit': 11,\n",
    "    'filter_column': 'label',\n",
    "}"
   ]
  },
  {
   "cell_type": "code",
   "execution_count": null,
   "metadata": {},
   "outputs": [],
   "source": [
    "def send_message(databits, title):\n",
    "    message = []\n",
    "    for data in databits:\n",
    "        url = f\"<{data['url']}|{data['url'].split('/')[-2]}>\"\n",
    "        message.append(f\"`{data['nb_visits']}`\".ljust(8) + url)\n",
    "    message = '\\n'.join(message)\n",
    "    message = f\"-- *{title}* --\\n{message}\"\n",
    "    send_to_slack({'text': message})\n",
    "                       \n",
    "def send_to_slack(the_json):\n",
    "    requests.post(wh_url, json=the_json)"
   ]
  },
  {
   "cell_type": "code",
   "execution_count": null,
   "metadata": {},
   "outputs": [],
   "source": [
    "def compute(pattern, period, date, title=''):\n",
    "    params['period'] = period\n",
    "    params['date'] = date\n",
    "    params['filter_pattern'] = f\"/fr/{pattern}/\"\n",
    "    r = requests.get(base_url, params=params)\n",
    "    databits = []\n",
    "    for data in r.json():\n",
    "        if 'url' in data:\n",
    "            databits.append(data)\n",
    "            print(str(data['nb_visits']).ljust(10), data['url'])\n",
    "    send_message(databits, title)"
   ]
  },
  {
   "cell_type": "code",
   "execution_count": null,
   "metadata": {},
   "outputs": [],
   "source": []
  }
 ],
 "metadata": {
  "kernelspec": {
   "display_name": "Python 3",
   "language": "python",
   "name": "python3"
  },
  "language_info": {
   "codemirror_mode": {
    "name": "ipython",
    "version": 3
   },
   "file_extension": ".py",
   "mimetype": "text/x-python",
   "name": "python",
   "nbconvert_exporter": "python",
   "pygments_lexer": "ipython3",
   "version": "3.7.6"
  }
 },
 "nbformat": 4,
 "nbformat_minor": 1
}
