{
 "cells": [
  {
   "cell_type": "markdown",
   "metadata": {},
   "source": [
    "# CommunityResource creation monitoring\n",
    "\n",
    "- uses the public API\n",
    "- uses a file to store the latest CommunityResource we've seen in between cron runs\n",
    "- notifies on Slack (webhook)"
   ]
  },
  {
   "cell_type": "code",
   "execution_count": null,
   "metadata": {},
   "outputs": [],
   "source": [
    "import requests, os\n",
    "from datetime import datetime, timedelta\n",
    "from pathlib import Path"
   ]
  },
  {
   "cell_type": "code",
   "execution_count": null,
   "metadata": {},
   "outputs": [],
   "source": [
    "# in minutes - /!\\ set the cron to the same frequency\n",
    "FREQUENCY = 10\n",
    "wh_url = os.environ['NB_SLACK_WEBHOOK_URL_ACTIVITY']"
   ]
  },
  {
   "cell_type": "code",
   "execution_count": null,
   "metadata": {},
   "outputs": [],
   "source": [
    "last_run = datetime.now() - timedelta(minutes=FREQUENCY)"
   ]
  },
  {
   "cell_type": "markdown",
   "metadata": {},
   "source": [
    "**send a message to Slack API**"
   ]
  },
  {
   "cell_type": "code",
   "execution_count": null,
   "metadata": {},
   "outputs": [],
   "source": [
    "def send_message(msg):\n",
    "    print(msg)\n",
    "    r = requests.post(wh_url, json={'text': msg})\n",
    "    assert r.text == 'ok'"
   ]
  },
  {
   "cell_type": "code",
   "execution_count": null,
   "metadata": {},
   "outputs": [],
   "source": [
    "def notify_cr(cr):\n",
    "    dataset_link = f\"<{cr['dataset']['page']}|{cr['dataset']['title']}>\" if cr['dataset'] else '*None*'\n",
    "    send_message(f\":panda_face: new _CommunityResource_ on {dataset_link}: {cr['url']}\")"
   ]
  },
  {
   "cell_type": "code",
   "execution_count": null,
   "metadata": {},
   "outputs": [],
   "source": [
    "cr_url = 'https://www.data.gouv.fr/api/1/datasets/community_resources/?sort=-created_at'\n",
    "r = requests.get(cr_url)\n",
    "new_last_found = None\n",
    "for cr in r.json()['data']:\n",
    "    cr_date = datetime.fromisoformat(cr['created_at'])\n",
    "    if last_run and cr_date < last_run:\n",
    "        break\n",
    "    notify_cr(cr)"
   ]
  },
  {
   "cell_type": "code",
   "execution_count": null,
   "metadata": {},
   "outputs": [],
   "source": []
  }
 ],
 "metadata": {
  "kernelspec": {
   "display_name": "Python 3",
   "language": "python",
   "name": "python3"
  },
  "language_info": {
   "codemirror_mode": {
    "name": "ipython",
    "version": 3
   },
   "file_extension": ".py",
   "mimetype": "text/x-python",
   "name": "python",
   "nbconvert_exporter": "python",
   "pygments_lexer": "ipython3",
   "version": "3.7.6"
  }
 },
 "nbformat": 4,
 "nbformat_minor": 2
}
