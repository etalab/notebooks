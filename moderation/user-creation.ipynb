{
 "cells": [
  {
   "cell_type": "markdown",
   "metadata": {},
   "source": [
    "# Alerte création utilisateurs\n",
    "\n",
    "Soulève une exception si le rythme de création d'utilisateurs dépasse une certaine valeur `NB_USERS_THRESHOLD`\n",
    "sur une certaine période `TIME_PERIOD`."
   ]
  },
  {
   "cell_type": "code",
   "execution_count": null,
   "metadata": {},
   "outputs": [],
   "source": [
    "import os\n",
    "from pathlib import Path"
   ]
  },
  {
   "cell_type": "code",
   "execution_count": null,
   "metadata": {},
   "outputs": [],
   "source": [
    "TIME_PERIOD = {'hours': 1} \n",
    "NB_USERS_THRESHOLD = 15"
   ]
  },
  {
   "cell_type": "code",
   "execution_count": null,
   "metadata": {
    "hide_input": true
   },
   "outputs": [],
   "source": [
    "DOMAIN = 'www.data.gouv.fr'\n",
    "PAGE_SIZE = 100\n",
    "current_path = Path(os.getenv('WORKING_DIR')) if os.getenv('WORKING_DIR') else Path().absolute()\n",
    "fn_path = '%s' % (current_path / 'moderation_fn.ipynb')\n",
    "%run $fn_path\n",
    "# we want everything that happened since this date\n",
    "start_date = datetime.now() - timedelta(**TIME_PERIOD)\n",
    "start_date"
   ]
  },
  {
   "cell_type": "markdown",
   "metadata": {},
   "source": [
    "## Utilisateurs"
   ]
  },
  {
   "cell_type": "code",
   "execution_count": null,
   "metadata": {},
   "outputs": [],
   "source": [
    "users = get_last_items('users', date_key='since')\n",
    "if len(users) > NB_USERS_THRESHOLD:\n",
    "    raise Exception('More than %s users created in %s: %s' % (NB_USERS_THRESHOLD, TIME_PERIOD, len(users)))\n",
    "len(users)"
   ]
  },
  {
   "cell_type": "code",
   "execution_count": null,
   "metadata": {},
   "outputs": [],
   "source": []
  }
 ],
 "metadata": {
  "celltoolbar": "Format de la Cellule Texte Brut",
  "gist": {
   "data": {
    "description": "moderation.ipynb",
    "public": true
   },
   "id": ""
  },
  "hide_input": true,
  "kernelspec": {
   "display_name": "Python 3",
   "language": "python",
   "name": "python3"
  },
  "language_info": {
   "codemirror_mode": {
    "name": "ipython",
    "version": 3
   },
   "file_extension": ".py",
   "mimetype": "text/x-python",
   "name": "python",
   "nbconvert_exporter": "python",
   "pygments_lexer": "ipython3",
   "version": "3.7.6"
  }
 },
 "nbformat": 4,
 "nbformat_minor": 2
}
