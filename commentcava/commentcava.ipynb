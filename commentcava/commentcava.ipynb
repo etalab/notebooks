{
 "cells": [
  {
   "cell_type": "code",
   "execution_count": null,
   "metadata": {},
   "outputs": [],
   "source": [
    "from datetime import date\n",
    "import pandas as pd\n",
    "from matplotlib.backends import backend_pdf\n",
    "import matplotlib.pyplot as plt\n",
    "plt.rcdefaults()"
   ]
  },
  {
   "cell_type": "code",
   "execution_count": null,
   "metadata": {},
   "outputs": [],
   "source": [
    "df_previous = pd.read_csv('data/2020-06-03.csv')\n",
    "df = pd.read_csv('data/2020-06-26.csv')\n",
    "df_previous.count()['id'], df.count()['id']"
   ]
  },
  {
   "cell_type": "code",
   "execution_count": null,
   "metadata": {},
   "outputs": [],
   "source": [
    "columns = [\n",
    "    'mood', \n",
    "    'seminaire_avis_jeu',\n",
    "    'seminaire_avis_work'\n",
    "]"
   ]
  },
  {
   "cell_type": "code",
   "execution_count": null,
   "metadata": {},
   "outputs": [],
   "source": [
    "datestr = date.today().isoformat()\n",
    "pdf = backend_pdf.PdfPages(f'out/{datestr}.pdf')\n",
    "\n",
    "for c in columns:\n",
    "    ax = df[c].value_counts().plot(kind='pie', title=c)\n",
    "    plt.show()\n",
    "    pdf.savefig(ax.figure, bbox_inches='tight')\n",
    "    _df = pd.DataFrame()\n",
    "    _df = pd.concat(\n",
    "        [df_previous[c].value_counts() if c in df_previous.columns else None, df[c].value_counts()], \n",
    "        axis=1, sort=False, keys=['previous', 'current']\n",
    "    )\n",
    "    ax = _df.plot(kind='bar', title=c)\n",
    "    plt.show()\n",
    "    pdf.savefig(ax.figure, bbox_inches='tight')\n",
    "    \n",
    "pdf.close()"
   ]
  },
  {
   "cell_type": "code",
   "execution_count": null,
   "metadata": {},
   "outputs": [],
   "source": []
  }
 ],
 "metadata": {
  "kernelspec": {
   "display_name": "Python 3",
   "language": "python",
   "name": "python3"
  },
  "language_info": {
   "codemirror_mode": {
    "name": "ipython",
    "version": 3
   },
   "file_extension": ".py",
   "mimetype": "text/x-python",
   "name": "python",
   "nbconvert_exporter": "python",
   "pygments_lexer": "ipython3",
   "version": "3.7.6"
  }
 },
 "nbformat": 4,
 "nbformat_minor": 2
}
